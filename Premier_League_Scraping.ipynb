{
 "cells": [
  {
   "cell_type": "code",
   "execution_count": 134,
   "id": "be9d9821-cdee-4eaf-abd1-d56c3327fff1",
   "metadata": {},
   "outputs": [],
   "source": [
    "import re\n",
    "import requests\n",
    "from datetime import datetime\n",
    "from bs4 import BeautifulSoup"
   ]
  },
  {
   "cell_type": "code",
   "execution_count": 82,
   "id": "9a4fa76c-9afe-4662-bb49-b60681343cc3",
   "metadata": {},
   "outputs": [
    {
     "name": "stdout",
     "output_type": "stream",
     "text": [
      "https://www.transfermarkt.co.uk/premier-league/gesamtspielplan/wettbewerb/GB1/saison_id/2000\n",
      "https://www.transfermarkt.co.uk/premier-league/gesamtspielplan/wettbewerb/GB1/saison_id/2001\n",
      "https://www.transfermarkt.co.uk/premier-league/gesamtspielplan/wettbewerb/GB1/saison_id/2002\n",
      "https://www.transfermarkt.co.uk/premier-league/gesamtspielplan/wettbewerb/GB1/saison_id/2003\n",
      "https://www.transfermarkt.co.uk/premier-league/gesamtspielplan/wettbewerb/GB1/saison_id/2004\n",
      "https://www.transfermarkt.co.uk/premier-league/gesamtspielplan/wettbewerb/GB1/saison_id/2005\n",
      "https://www.transfermarkt.co.uk/premier-league/gesamtspielplan/wettbewerb/GB1/saison_id/2006\n",
      "https://www.transfermarkt.co.uk/premier-league/gesamtspielplan/wettbewerb/GB1/saison_id/2007\n",
      "https://www.transfermarkt.co.uk/premier-league/gesamtspielplan/wettbewerb/GB1/saison_id/2008\n",
      "https://www.transfermarkt.co.uk/premier-league/gesamtspielplan/wettbewerb/GB1/saison_id/2009\n",
      "https://www.transfermarkt.co.uk/premier-league/gesamtspielplan/wettbewerb/GB1/saison_id/2010\n",
      "https://www.transfermarkt.co.uk/premier-league/gesamtspielplan/wettbewerb/GB1/saison_id/2011\n",
      "https://www.transfermarkt.co.uk/premier-league/gesamtspielplan/wettbewerb/GB1/saison_id/2012\n",
      "https://www.transfermarkt.co.uk/premier-league/gesamtspielplan/wettbewerb/GB1/saison_id/2013\n",
      "https://www.transfermarkt.co.uk/premier-league/gesamtspielplan/wettbewerb/GB1/saison_id/2014\n",
      "https://www.transfermarkt.co.uk/premier-league/gesamtspielplan/wettbewerb/GB1/saison_id/2015\n",
      "https://www.transfermarkt.co.uk/premier-league/gesamtspielplan/wettbewerb/GB1/saison_id/2016\n",
      "https://www.transfermarkt.co.uk/premier-league/gesamtspielplan/wettbewerb/GB1/saison_id/2017\n",
      "https://www.transfermarkt.co.uk/premier-league/gesamtspielplan/wettbewerb/GB1/saison_id/2018\n",
      "https://www.transfermarkt.co.uk/premier-league/gesamtspielplan/wettbewerb/GB1/saison_id/2019\n",
      "https://www.transfermarkt.co.uk/premier-league/gesamtspielplan/wettbewerb/GB1/saison_id/2020\n",
      "https://www.transfermarkt.co.uk/premier-league/gesamtspielplan/wettbewerb/GB1/saison_id/2021\n",
      "https://www.transfermarkt.co.uk/premier-league/gesamtspielplan/wettbewerb/GB1/saison_id/2022\n",
      "https://www.transfermarkt.co.uk/premier-league/gesamtspielplan/wettbewerb/GB1/saison_id/2023\n"
     ]
    }
   ],
   "source": [
    "domicile = []\n",
    "exterieur = []\n",
    "score = []\n",
    "date = []\n",
    "saison = []\n",
    "game_tag = []\n",
    "\n",
    "def convert_date(date_string):\n",
    "    date_obj = datetime.strptime(date_string, '%b %d, %Y')\n",
    "    formatted_date = date_obj.strftime('%d/%m/%Y')\n",
    "    return formatted_date\n",
    "    \n",
    "\n",
    "for annee in range(2000, 2024):\n",
    "\n",
    "    dom = ext = sco = last_day = day = x = 0\n",
    "    \n",
    "    url = \"https://www.transfermarkt.co.uk/premier-league/gesamtspielplan/wettbewerb/GB1/saison_id/\"+str(annee)\n",
    "    print(url)\n",
    "\n",
    "    headers = {\n",
    "        \"User-Agent\": \"Mozilla/5.0 (Windows NT 10.0; Win64; x64) AppleWebKit/537.36 (KHTML, like Gecko) Chrome/124.0.0.0 Safari/537.36\"\n",
    "    }\n",
    "\n",
    "    response = requests.get(url, headers = headers)\n",
    "    #response.status_code\n",
    "    soup = BeautifulSoup(response.content, \"html.parser\")\n",
    "\n",
    "    date_erronee = soup.select('td[class=\"hide-for-small\"]')\n",
    "\n",
    "    dom = soup.select('td[class=\"text-right no-border-rechts hauptlink\"]')\n",
    "    ext = soup.select('td[class=\"no-border-links hauptlink\"]')\n",
    "    sco = soup.select('td[class=\"zentriert hauptlink\"]')\n",
    "\n",
    "    for i in range(len(dom)):\n",
    "        \n",
    "        domicile.append(dom[i].text.split('\\xa0')[-1].strip())\n",
    "        exterieur.append(ext[i].text.split('\\xa0')[0].strip())\n",
    "        score.append(sco[i].text.split('\\xa0')[1].strip())\n",
    "        saison.append(annee)\n",
    "        \n",
    "        a_tag = sco[i].find('a')\n",
    "        id_value = a_tag.get('id')\n",
    "        game_tag.append(id_value)\n",
    "        \n",
    "        day = date_erronee[i].text\n",
    "        \n",
    "        if day.strip() == \"\" :\n",
    "            date.append(last_day)\n",
    "        else:\n",
    "            if annee < 2000:\n",
    "                x = (re.search(r'%b %d, %Y', day))\n",
    "                date.append(convert_date(x))\n",
    "                last_day = date[i]\n",
    "            if annee >= 2000:\n",
    "                date.append(re.search(r'\\d+/\\d+/\\d+', day).group())\n",
    "                last_day = date[i]\n",
    "\n",
    "##for i in range(len(domicile)):\n",
    "#    print(date[i],\":\",domicile[i],score[i],exterieur[i])"
   ]
  },
  {
   "cell_type": "code",
   "execution_count": 87,
   "id": "13438377-24dd-4c0a-b93b-ad2f49d0a5be",
   "metadata": {},
   "outputs": [
    {
     "name": "stdout",
     "output_type": "stream",
     "text": [
      "Le fichier a été supprimé avec succès.\n"
     ]
    }
   ],
   "source": [
    "import csv\n",
    "import os\n",
    "\n",
    "nom_fichier = 'games.csv'\n",
    "\n",
    "if os.path.exists(nom_fichier):\n",
    "    os.remove(nom_fichier)\n",
    "\n",
    "entetes = ['game_tag', 'season', 'date', 'domicile_team', 'score', 'exterieur_team']\n",
    "data = []\n",
    "for i in range(len(domicile)):\n",
    "    x = {\n",
    "        'game_tag': game_tag[i],\n",
    "        'season': saison[i],\n",
    "        'date': date[i],\n",
    "        'domicile_team': domicile[i],\n",
    "        'score': score[i],\n",
    "        'exterieur_team': exterieur[i]\n",
    "    }\n",
    "    data.append(x)\n",
    "\n",
    "with open(nom_fichier, mode='w', newline='', encoding='utf-8') as fichier_csv:\n",
    "    writer = csv.DictWriter(fichier_csv, fieldnames=entetes)\n",
    "    writer.writeheader()\n",
    "    for element in data:\n",
    "        writer.writerow(element)\n"
   ]
  },
  {
   "cell_type": "code",
   "execution_count": null,
   "id": "9658c163-d0f5-4d30-92ed-3facde85de74",
   "metadata": {},
   "outputs": [],
   "source": []
  }
 ],
 "metadata": {
  "kernelspec": {
   "display_name": "Python 3 (ipykernel)",
   "language": "python",
   "name": "python3"
  },
  "language_info": {
   "codemirror_mode": {
    "name": "ipython",
    "version": 3
   },
   "file_extension": ".py",
   "mimetype": "text/x-python",
   "name": "python",
   "nbconvert_exporter": "python",
   "pygments_lexer": "ipython3",
   "version": "3.11.7"
  }
 },
 "nbformat": 4,
 "nbformat_minor": 5
}
