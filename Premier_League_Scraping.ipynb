{
 "cells": [
  {
   "cell_type": "code",
   "execution_count": 134,
   "id": "be9d9821-cdee-4eaf-abd1-d56c3327fff1",
   "metadata": {},
   "outputs": [],
   "source": [
    "import re\n",
    "import requests\n",
    "from datetime import datetime\n",
    "from bs4 import BeautifulSoup"
   ]
  },
  {
   "cell_type": "code",
   "execution_count": 135,
   "id": "9a4fa76c-9afe-4662-bb49-b60681343cc3",
   "metadata": {},
   "outputs": [
    {
     "name": "stdout",
     "output_type": "stream",
     "text": [
      "https://www.transfermarkt.co.uk/premier-league/gesamtspielplan/wettbewerb/GB1/saison_id/1992\n"
     ]
    },
    {
     "ename": "TypeError",
     "evalue": "strptime() argument 1 must be str, not None",
     "output_type": "error",
     "traceback": [
      "\u001b[1;31m---------------------------------------------------------------------------\u001b[0m",
      "\u001b[1;31mTypeError\u001b[0m                                 Traceback (most recent call last)",
      "Cell \u001b[1;32mIn[135], line 48\u001b[0m\n\u001b[0;32m     46\u001b[0m \u001b[38;5;28;01mif\u001b[39;00m annee \u001b[38;5;241m<\u001b[39m \u001b[38;5;241m2000\u001b[39m:\n\u001b[0;32m     47\u001b[0m     x \u001b[38;5;241m=\u001b[39m (re\u001b[38;5;241m.\u001b[39msearch(\u001b[38;5;124mr\u001b[39m\u001b[38;5;124m'\u001b[39m\u001b[38;5;124m%\u001b[39m\u001b[38;5;124mb \u001b[39m\u001b[38;5;132;01m%d\u001b[39;00m\u001b[38;5;124m, \u001b[39m\u001b[38;5;124m%\u001b[39m\u001b[38;5;124mY\u001b[39m\u001b[38;5;124m'\u001b[39m, day))\n\u001b[1;32m---> 48\u001b[0m     date\u001b[38;5;241m.\u001b[39mappend(convert_date(x))\n\u001b[0;32m     49\u001b[0m     last_day \u001b[38;5;241m=\u001b[39m date[i]\n\u001b[0;32m     50\u001b[0m \u001b[38;5;28;01mif\u001b[39;00m annee \u001b[38;5;241m>\u001b[39m\u001b[38;5;241m=\u001b[39m \u001b[38;5;241m2000\u001b[39m:\n",
      "Cell \u001b[1;32mIn[135], line 8\u001b[0m, in \u001b[0;36mconvert_date\u001b[1;34m(date_string)\u001b[0m\n\u001b[0;32m      7\u001b[0m \u001b[38;5;28;01mdef\u001b[39;00m \u001b[38;5;21mconvert_date\u001b[39m(date_string):\n\u001b[1;32m----> 8\u001b[0m     date_obj \u001b[38;5;241m=\u001b[39m datetime\u001b[38;5;241m.\u001b[39mstrptime(date_string, \u001b[38;5;124m'\u001b[39m\u001b[38;5;124m%\u001b[39m\u001b[38;5;124mb \u001b[39m\u001b[38;5;132;01m%d\u001b[39;00m\u001b[38;5;124m, \u001b[39m\u001b[38;5;124m%\u001b[39m\u001b[38;5;124mY\u001b[39m\u001b[38;5;124m'\u001b[39m)\n\u001b[0;32m      9\u001b[0m     formatted_date \u001b[38;5;241m=\u001b[39m date_obj\u001b[38;5;241m.\u001b[39mstrftime(\u001b[38;5;124m'\u001b[39m\u001b[38;5;132;01m%d\u001b[39;00m\u001b[38;5;124m/\u001b[39m\u001b[38;5;124m%\u001b[39m\u001b[38;5;124mm/\u001b[39m\u001b[38;5;124m%\u001b[39m\u001b[38;5;124mY\u001b[39m\u001b[38;5;124m'\u001b[39m)\n\u001b[0;32m     10\u001b[0m     \u001b[38;5;28;01mreturn\u001b[39;00m formatted_date\n",
      "\u001b[1;31mTypeError\u001b[0m: strptime() argument 1 must be str, not None"
     ]
    }
   ],
   "source": [
    "domicile = []\n",
    "exterieur = []\n",
    "score = []\n",
    "date = []\n",
    "saison = []\n",
    "\n",
    "def convert_date(date_string):\n",
    "    date_obj = datetime.strptime(date_string, '%b %d, %Y')\n",
    "    formatted_date = date_obj.strftime('%d/%m/%Y')\n",
    "    return formatted_date\n",
    "    \n",
    "\n",
    "for annee in range(1992, 2001):\n",
    "\n",
    "    dom = ext = sco = last_day = day = x = 0\n",
    "    \n",
    "    url = \"https://www.transfermarkt.co.uk/premier-league/gesamtspielplan/wettbewerb/GB1/saison_id/\"+str(annee)\n",
    "    print(url)\n",
    "\n",
    "    headers = {\n",
    "        \"User-Agent\": \"Mozilla/5.0 (Windows NT 10.0; Win64; x64) AppleWebKit/537.36 (KHTML, like Gecko) Chrome/124.0.0.0 Safari/537.36\"\n",
    "    }\n",
    "\n",
    "    response = requests.get(url, headers = headers)\n",
    "    #response.status_code\n",
    "    soup = BeautifulSoup(response.content, \"html.parser\")\n",
    "\n",
    "    date_erronee = soup.select('td[class=\"hide-for-small\"]')\n",
    "\n",
    "    dom = soup.select('td[class=\"text-right no-border-rechts hauptlink\"]')\n",
    "    ext = soup.select('td[class=\"no-border-links hauptlink\"]')\n",
    "    sco = soup.select('td[class=\"zentriert hauptlink\"]')\n",
    "\n",
    "    for i in range(len(dom)):\n",
    "        \n",
    "        domicile.append(dom[i].text.split('\\xa0')[-1].strip())\n",
    "        exterieur.append(ext[i].text.split('\\xa0')[0].strip())\n",
    "        score.append(sco[i].text.split('\\xa0')[1].strip())\n",
    "        saison.append(annee)\n",
    "        \n",
    "        day = date_erronee[i].text\n",
    "        \n",
    "        if day.strip() == \"\" :\n",
    "            date.append(last_day)\n",
    "        else:\n",
    "            if annee < 2000:\n",
    "                x = (re.search(r'%b %d, %Y', day))\n",
    "                date.append(convert_date(x))\n",
    "                last_day = date[i]\n",
    "            if annee >= 2000:\n",
    "                date.append(re.search(r'\\d+/\\d+/\\d+', day).group())\n",
    "                last_day = date[i]\n",
    "\n",
    "##for i in range(len(domicile)):\n",
    "#    print(date[i],\":\",domicile[i],score[i],exterieur[i])"
   ]
  },
  {
   "cell_type": "code",
   "execution_count": null,
   "id": "982ba923-ece2-428e-baf4-231d3c582a48",
   "metadata": {},
   "outputs": [],
   "source": []
  },
  {
   "cell_type": "code",
   "execution_count": 126,
   "id": "3d77a142-786e-40f5-b1be-d0a69916042e",
   "metadata": {},
   "outputs": [
    {
     "name": "stdout",
     "output_type": "stream",
     "text": [
      "14/08/1992\n"
     ]
    }
   ],
   "source": [
    "from datetime import datetime\n",
    "\n",
    "def convert_date(date_string):\n",
    "    # Convertir la date en un objet datetime\n",
    "    date_obj = datetime.strptime(date_string, '%b %d, %Y')\n",
    "    \n",
    "    # Formater la date dans le format requis\n",
    "    formatted_date = date_obj.strftime('%d/%m/%Y')\n",
    "    \n",
    "    return formatted_date\n",
    "\n",
    "# Exemple d'utilisation\n",
    "date_string = \"Aug 14, 1992\"\n",
    "formatted_date = convert_date(date_string)\n",
    "print(formatted_date)  # Output: 14/08/1992"
   ]
  },
  {
   "cell_type": "code",
   "execution_count": null,
   "id": "13438377-24dd-4c0a-b93b-ad2f49d0a5be",
   "metadata": {},
   "outputs": [],
   "source": []
  }
 ],
 "metadata": {
  "kernelspec": {
   "display_name": "Python 3 (ipykernel)",
   "language": "python",
   "name": "python3"
  },
  "language_info": {
   "codemirror_mode": {
    "name": "ipython",
    "version": 3
   },
   "file_extension": ".py",
   "mimetype": "text/x-python",
   "name": "python",
   "nbconvert_exporter": "python",
   "pygments_lexer": "ipython3",
   "version": "3.11.7"
  }
 },
 "nbformat": 4,
 "nbformat_minor": 5
}
